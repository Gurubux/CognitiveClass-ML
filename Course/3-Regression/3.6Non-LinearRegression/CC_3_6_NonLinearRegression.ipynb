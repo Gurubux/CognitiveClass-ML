{
  "nbformat": 4,
  "nbformat_minor": 0,
  "metadata": {
    "colab": {
      "name": "CC_3-6_NonLinearRegression.ipynb",
      "version": "0.3.2",
      "provenance": []
    },
    "language_info": {
      "codemirror_mode": {
        "name": "ipython",
        "version": 3
      },
      "file_extension": ".py",
      "mimetype": "text/x-python",
      "name": "python",
      "nbconvert_exporter": "python",
      "pygments_lexer": "ipython3",
      "version": "3.6.5"
    },
    "kernelspec": {
      "display_name": "Python 3",
      "language": "python",
      "name": "python3"
    }
  },
  "cells": [
    {
      "cell_type": "markdown",
      "metadata": {
        "id": "2rga2m41ySnv",
        "colab_type": "text"
      },
      "source": [
        "<a href=\"https://www.bigdatauniversity.com\"><img src = \"https://ibm.box.com/shared/static/cw2c7r3o20w9zn8gkecaeyjhgw3xdgbj.png\" width = 400, align = \"center\"></a>\n",
        "# <center>Non Linear Regression Analysis</center>"
      ]
    },
    {
      "cell_type": "markdown",
      "metadata": {
        "id": "op6QPljgySnx",
        "colab_type": "text"
      },
      "source": [
        "If the data shows a curvy trend, then linear regression will not produce very accurate results when compared to a non-linear regression because, as the name implies, linear regression presumes that the data is linear. \n",
        "Let's learn about non linear regressions and apply an example on python. In this notebook, we fit a non-linear model to the datapoints corrensponding to China's GDP from 1960 to 2014."
      ]
    },
    {
      "cell_type": "markdown",
      "metadata": {
        "id": "fxmIKlf4ySnx",
        "colab_type": "text"
      },
      "source": [
        "### Importing required libraries"
      ]
    },
    {
      "cell_type": "code",
      "metadata": {
        "id": "xMNzAU7UySny",
        "colab_type": "code",
        "colab": {}
      },
      "source": [
        "import numpy as np\n",
        "import matplotlib.pyplot as plt\n",
        "%matplotlib inline"
      ],
      "execution_count": 0,
      "outputs": []
    },
    {
      "cell_type": "markdown",
      "metadata": {
        "id": "pZ14FL5FySn2",
        "colab_type": "text"
      },
      "source": [
        "Though Linear regression is very good to solve many problems, it cannot be used for all datasets. First recall how linear regression, could model a dataset. It models a linear relation between a dependent variable y and independent variable x. It had a simple equation, of degree 1, for example y = 2*(x) + 3."
      ]
    },
    {
      "cell_type": "code",
      "metadata": {
        "id": "bQHNPEQZySn2",
        "colab_type": "code",
        "colab": {
          "base_uri": "https://localhost:8080/",
          "height": 283
        },
        "outputId": "df37f4c5-dec8-47ff-c20a-66d600dbca01"
      },
      "source": [
        "x = np.arange(-5.0, 5.0, 0.1)\n",
        "\n",
        "##You can adjust the slope and intercept to verify the changes in the graph\n",
        "y = 2*(x) + 3\n",
        "y_noise = 2 * np.random.normal(size=x.size)\n",
        "ydata = y + y_noise\n",
        "#plt.figure(figsize=(8,6))\n",
        "plt.plot(x, ydata,  'bo')\n",
        "plt.plot(x,y, 'r') \n",
        "plt.ylabel('Dependent Variable')\n",
        "plt.xlabel('Indepdendent Variable')\n",
        "plt.show()"
      ],
      "execution_count": 2,
      "outputs": [
        {
          "output_type": "display_data",
          "data": {
            "image/png": "[encoded data removed]",
            "text/plain": [
              "<Figure size 432x288 with 1 Axes>"
            ]
          },
          "metadata": {
            "tags": []
          }
        }
      ]
    },
    {
      "cell_type": "markdown",
      "metadata": {
        "id": "t2aJ63J8ySn4",
        "colab_type": "text"
      },
      "source": [
        "Non-linear regressions are a relationship between independent variables $x$ and a dependent variable $y$ which result in a non-linear function modeled data. Essentially any relationship that is not linear can be termed as non-linear, and is usually represented by the polynomial of $k$ degrees (maximum power of $x$). \n",
        "\n",
        "$$ \\ y = a x^3 + b x^2 + c x + d \\ $$\n",
        "\n",
        "Non-linear functions can have elements like exponentials, logarithms, fractions, and others. For example: $$ y = \\log(x)$$\n",
        "    \n",
        "Or even, more complicated such as :\n",
        "$$ y = \\log(a x^3 + b x^2 + c x + d)$$"
      ]
    },
    {
      "cell_type": "markdown",
      "metadata": {
        "id": "Dq6iYMMIySn5",
        "colab_type": "text"
      },
      "source": [
        "Let's take a look at a cubic function's graph."
      ]
    },
    {
      "cell_type": "code",
      "metadata": {
        "id": "ykyCpVJFySn6",
        "colab_type": "code",
        "colab": {
          "base_uri": "https://localhost:8080/",
          "height": 283
        },
        "outputId": "7566ca32-8fc4-463f-8a0f-dbe9adbb4709"
      },
      "source": [
        "x = np.arange(-5.0, 5.0, 0.1)\n",
        "\n",
        "##You can adjust the slope and intercept to verify the changes in the graph\n",
        "y = 1*(x**3) + 1*(x**2) + 1*x + 3\n",
        "y_noise = 20 * np.random.normal(size=x.size)\n",
        "ydata = y + y_noise\n",
        "plt.plot(x, ydata,  'bo')\n",
        "plt.plot(x,y, 'r') \n",
        "plt.ylabel('Dependent Variable')\n",
        "plt.xlabel('Indepdendent Variable')\n",
        "plt.show()"
      ],
      "execution_count": 3,
      "outputs": [
        {
          "output_type": "display_data",
          "data": {
            "image/png": "[encoded data removed]",
            "text/plain": [
              "<Figure size 432x288 with 1 Axes>"
            ]
          },
          "metadata": {
            "tags": []
          }
        }
      ]
    },
    {
      "cell_type": "markdown",
      "metadata": {
        "id": "9g0cm98cySn8",
        "colab_type": "text"
      },
      "source": [
        "As you can see, this function has $x^3$ and $x^2$ as independent variables. Also, the graphic of this function is not a straight line over the 2D plane. So this is a non-linear function."
      ]
    },
    {
      "cell_type": "markdown",
      "metadata": {
        "id": "6wvKYSm8ySn8",
        "colab_type": "text"
      },
      "source": [
        "Some other types of non-linear functions are:"
      ]
    },
    {
      "cell_type": "markdown",
      "metadata": {
        "id": "xKo-vF5CySn9",
        "colab_type": "text"
      },
      "source": [
        "### Quadratic"
      ]
    },
    {
      "cell_type": "markdown",
      "metadata": {
        "id": "04eVne5FySn9",
        "colab_type": "text"
      },
      "source": [
        "$$ Y = X^2 $$"
      ]
    },
    {
      "cell_type": "code",
      "metadata": {
        "id": "hF-VZPH3ySn-",
        "colab_type": "code",
        "colab": {
          "base_uri": "https://localhost:8080/",
          "height": 283
        },
        "outputId": "4ca8bfba-1747-4e0f-dcfe-230fc0720ecf"
      },
      "source": [
        "x = np.arange(-5.0, 5.0, 0.1)\n",
        "\n",
        "##You can adjust the slope and intercept to verify the changes in the graph\n",
        "\n",
        "y = np.power(x,2)\n",
        "y_noise = 2 * np.random.normal(size=x.size)\n",
        "ydata = y + y_noise\n",
        "plt.plot(x, ydata,  'bo')\n",
        "plt.plot(x,y, 'r') \n",
        "plt.ylabel('Dependent Variable')\n",
        "plt.xlabel('Indepdendent Variable')\n",
        "plt.show()"
      ],
      "execution_count": 4,
      "outputs": [
        {
          "output_type": "display_data",
          "data": {
            "image/png": "[encoded data removed]",
            "text/plain": [
              "<Figure size 432x288 with 1 Axes>"
            ]
          },
          "metadata": {
            "tags": []
          }
        }
      ]
    },
    {
      "cell_type": "markdown",
      "metadata": {
        "id": "9JahqFIeySoA",
        "colab_type": "text"
      },
      "source": [
        "### Exponential"
      ]
    },
    {
      "cell_type": "markdown",
      "metadata": {
        "id": "CwExhecRySoA",
        "colab_type": "text"
      },
      "source": [
        "An exponential function with base c is defined by $$ Y = a + b c^X$$ where b ≠0, c > 0 , c ≠1, and x is any real number. The base, c, is constant and the exponent, x, is a variable. \n",
        "\n"
      ]
    },
    {
      "cell_type": "code",
      "metadata": {
        "id": "kOr7B8GzySoB",
        "colab_type": "code",
        "colab": {
          "base_uri": "https://localhost:8080/",
          "height": 283
        },
        "outputId": "bad01314-9d2b-4b73-a198-996766da7059"
      },
      "source": [
        "X = np.arange(-5.0, 5.0, 0.1)\n",
        "\n",
        "##You can adjust the slope and intercept to verify the changes in the graph\n",
        "\n",
        "Y= np.exp(X)\n",
        "\n",
        "plt.plot(X,Y) \n",
        "plt.ylabel('Dependent Variable')\n",
        "plt.xlabel('Indepdendent Variable')\n",
        "plt.show()"
      ],
      "execution_count": 5,
      "outputs": [
        {
          "output_type": "display_data",
          "data": {
            "image/png": "[encoded data removed]",
            "text/plain": [
              "<Figure size 432x288 with 1 Axes>"
            ]
          },
          "metadata": {
            "tags": []
          }
        }
      ]
    },
    {
      "cell_type": "markdown",
      "metadata": {
        "id": "2lVs8KPIySoD",
        "colab_type": "text"
      },
      "source": [
        "### Logarithmic\n",
        "\n",
        "The response $y$ is a results of applying logarithmic map from input $x$'s to output variable $y$. It is one of the simplest form of __log()__: i.e. $$ y = \\log(x)$$\n",
        "\n",
        "Please consider that instead of $x$, we can use $X$, which can be polynomial representation of the $x$'s. In general form it would be written as  \n",
        "\\begin{equation}\n",
        "y = \\log(X)\n",
        "\\end{equation}"
      ]
    },
    {
      "cell_type": "code",
      "metadata": {
        "id": "ZThsi6QOySoE",
        "colab_type": "code",
        "colab": {
          "base_uri": "https://localhost:8080/",
          "height": 317
        },
        "outputId": "a76bc9e1-915a-4e96-b11c-7cf0edb25c72"
      },
      "source": [
        "X = np.arange(-5.0, 5.0, 0.1)\n",
        "\n",
        "Y = np.log(X)\n",
        "\n",
        "plt.plot(X,Y) \n",
        "plt.ylabel('Dependent Variable')\n",
        "plt.xlabel('Indepdendent Variable')\n",
        "plt.show()"
      ],
      "execution_count": 6,
      "outputs": [
        {
          "output_type": "stream",
          "text": [
            "/usr/local/lib/python3.6/dist-packages/ipykernel_launcher.py:3: RuntimeWarning: invalid value encountered in log\n",
            "  This is separate from the ipykernel package so we can avoid doing imports until\n"
          ],
          "name": "stderr"
        },
        {
          "output_type": "display_data",
          "data": {
            "image/png": "[encoded data removed]",
            "text/plain": [
              "<Figure size 432x288 with 1 Axes>"
            ]
          },
          "metadata": {
            "tags": []
          }
        }
      ]
    },
    {
      "cell_type": "markdown",
      "metadata": {
        "id": "ekQ6KGw9ySoG",
        "colab_type": "text"
      },
      "source": [
        "### Sigmoidal/Logistic"
      ]
    },
    {
      "cell_type": "markdown",
      "metadata": {
        "id": "kQ6R0mrFySoH",
        "colab_type": "text"
      },
      "source": [
        "$$ Y = a + \\frac{b}{1+ c^{(X-d)}}$$"
      ]
    },
    {
      "cell_type": "code",
      "metadata": {
        "id": "AyPXMXxoySoI",
        "colab_type": "code",
        "colab": {
          "base_uri": "https://localhost:8080/",
          "height": 283
        },
        "outputId": "c8f028cd-0af3-4d8f-8872-74b987f16f01"
      },
      "source": [
        "X = np.arange(-5.0, 5.0, 0.1)\n",
        "\n",
        "\n",
        "Y = 1-4/(1+np.power(3, X-2))\n",
        "\n",
        "plt.plot(X,Y) \n",
        "plt.ylabel('Dependent Variable')\n",
        "plt.xlabel('Indepdendent Variable')\n",
        "plt.show()"
      ],
      "execution_count": 7,
      "outputs": [
        {
          "output_type": "display_data",
          "data": {
            "image/png": "[encoded data removed]",
            "text/plain": [
              "<Figure size 432x288 with 1 Axes>"
            ]
          },
          "metadata": {
            "tags": []
          }
        }
      ]
    },
    {
      "cell_type": "markdown",
      "metadata": {
        "id": "5N44kvHAySoK",
        "colab_type": "text"
      },
      "source": [
        "<a id=\"ref2\"></a>\n",
        "# Non-Linear Regression example"
      ]
    },
    {
      "cell_type": "markdown",
      "metadata": {
        "id": "jCTwIO_nySoK",
        "colab_type": "text"
      },
      "source": [
        "For an example, we're going to try and fit a non-linear model to the datapoints corrensponding to China's GDP from 1960 to 2014. We download a dataset with two columns, the first, a year between 1960 and 2014, the second, China's corresponding annual gross domestic income in US dollars for that year. "
      ]
    },
    {
      "cell_type": "code",
      "metadata": {
        "id": "qf-QCyWQySoL",
        "colab_type": "code",
        "colab": {
          "base_uri": "https://localhost:8080/",
          "height": 396
        },
        "outputId": "1e32b928-9ebc-4117-d153-7d01de83c20d"
      },
      "source": [
        "import numpy as np\n",
        "import pandas as pd\n",
        "\n",
        "#downloading dataset\n",
        "!wget -nv -O china_gdp.csv https://s3-api.us-geo.objectstorage.softlayer.net/cf-courses-data/CognitiveClass/ML0101ENv3/labs/china_gdp.csv\n",
        "    \n",
        "df = pd.read_csv(\"china_gdp.csv\")\n",
        "df.head(10)"
      ],
      "execution_count": 8,
      "outputs": [
        {
          "output_type": "stream",
          "text": [
            "2019-05-17 17:15:01 URL:https://s3-api.us-geo.objectstorage.softlayer.net/cf-courses-data/CognitiveClass/ML0101ENv3/labs/china_gdp.csv [1218/1218] -> \"china_gdp.csv\" [1]\n"
          ],
          "name": "stdout"
        },
        {
          "output_type": "execute_result",
          "data": {
            "text/html": [
              "<div>\n",
              "<style scoped>\n",
              "    .dataframe tbody tr th:only-of-type {\n",
              "        vertical-align: middle;\n",
              "    }\n",
              "\n",
              "    .dataframe tbody tr th {\n",
              "        vertical-align: top;\n",
              "    }\n",
              "\n",
              "    .dataframe thead th {\n",
              "        text-align: right;\n",
              "    }\n",
              "</style>\n",
              "<table border=\"1\" class=\"dataframe\">\n",
              "  <thead>\n",
              "    <tr style=\"text-align: right;\">\n",
              "      <th></th>\n",
              "      <th>Year</th>\n",
              "      <th>Value</th>\n",
              "    </tr>\n",
              "  </thead>\n",
              "  <tbody>\n",
              "    <tr>\n",
              "      <th>0</th>\n",
              "      <td>1960</td>\n",
              "      <td>5.918412e+10</td>\n",
              "    </tr>\n",
              "    <tr>\n",
              "      <th>1</th>\n",
              "      <td>1961</td>\n",
              "      <td>4.955705e+10</td>\n",
              "    </tr>\n",
              "    <tr>\n",
              "      <th>2</th>\n",
              "      <td>1962</td>\n",
              "      <td>4.668518e+10</td>\n",
              "    </tr>\n",
              "    <tr>\n",
              "      <th>3</th>\n",
              "      <td>1963</td>\n",
              "      <td>5.009730e+10</td>\n",
              "    </tr>\n",
              "    <tr>\n",
              "      <th>4</th>\n",
              "      <td>1964</td>\n",
              "      <td>5.906225e+10</td>\n",
              "    </tr>\n",
              "    <tr>\n",
              "      <th>5</th>\n",
              "      <td>1965</td>\n",
              "      <td>6.970915e+10</td>\n",
              "    </tr>\n",
              "    <tr>\n",
              "      <th>6</th>\n",
              "      <td>1966</td>\n",
              "      <td>7.587943e+10</td>\n",
              "    </tr>\n",
              "    <tr>\n",
              "      <th>7</th>\n",
              "      <td>1967</td>\n",
              "      <td>7.205703e+10</td>\n",
              "    </tr>\n",
              "    <tr>\n",
              "      <th>8</th>\n",
              "      <td>1968</td>\n",
              "      <td>6.999350e+10</td>\n",
              "    </tr>\n",
              "    <tr>\n",
              "      <th>9</th>\n",
              "      <td>1969</td>\n",
              "      <td>7.871882e+10</td>\n",
              "    </tr>\n",
              "  </tbody>\n",
              "</table>\n",
              "</div>"
            ],
            "text/plain": [
              "   Year         Value\n",
              "0  1960  5.918412e+10\n",
              "1  1961  4.955705e+10\n",
              "2  1962  4.668518e+10\n",
              "3  1963  5.009730e+10\n",
              "4  1964  5.906225e+10\n",
              "5  1965  6.970915e+10\n",
              "6  1966  7.587943e+10\n",
              "7  1967  7.205703e+10\n",
              "8  1968  6.999350e+10\n",
              "9  1969  7.871882e+10"
            ]
          },
          "metadata": {
            "tags": []
          },
          "execution_count": 8
        }
      ]
    },
    {
      "cell_type": "markdown",
      "metadata": {
        "id": "NIsTW44rySoM",
        "colab_type": "text"
      },
      "source": [
        "__Did you know?__ When it comes to Machine Learning, you will likely be working with large datasets. As a business, where can you host your data? IBM is offering a unique opportunity for businesses, with 10 Tb of IBM Cloud Object Storage: [Sign up now for free](http://cocl.us/ML0101EN-IBM-Offer-CC)"
      ]
    },
    {
      "cell_type": "markdown",
      "metadata": {
        "id": "urlP491vySoN",
        "colab_type": "text"
      },
      "source": [
        "### Plotting the Dataset ###\n",
        "This is what the datapoints look like. It kind of looks like an either logistic or exponential function. The growth starts off slow, then from 2005 on forward, the growth is very significant. And finally, it deaccelerates slightly in the 2010s."
      ]
    },
    {
      "cell_type": "code",
      "metadata": {
        "id": "eKOloHWPySoO",
        "colab_type": "code",
        "colab": {
          "base_uri": "https://localhost:8080/",
          "height": 345
        },
        "outputId": "09ab83ed-7068-417c-f503-2ed3955e2474"
      },
      "source": [
        "plt.figure(figsize=(8,5))\n",
        "x_data, y_data = (df[\"Year\"].values, df[\"Value\"].values)\n",
        "plt.plot(x_data, y_data, 'ro')\n",
        "plt.ylabel('GDP')\n",
        "plt.xlabel('Year')\n",
        "plt.show()"
      ],
      "execution_count": 9,
      "outputs": [
        {
          "output_type": "display_data",
          "data": {
            "image/png": "[encoded data removed]",
            "text/plain": [
              "<Figure size 576x360 with 1 Axes>"
            ]
          },
          "metadata": {
            "tags": []
          }
        }
      ]
    },
    {
      "cell_type": "markdown",
      "metadata": {
        "id": "0Q9PnmTdySoP",
        "colab_type": "text"
      },
      "source": [
        "### Choosing a model ###\n",
        "\n",
        "From an initial look at the plot, we determine that the logistic function could be a good approximation,\n",
        "since it has the property of starting with a slow growth, increasing growth in the middle, and then decreasing again at the end; as illustrated below:"
      ]
    },
    {
      "cell_type": "code",
      "metadata": {
        "id": "8HPHxa6WySoQ",
        "colab_type": "code",
        "colab": {
          "base_uri": "https://localhost:8080/",
          "height": 283
        },
        "outputId": "e05340d1-265a-42e2-956c-e450c073cea5"
      },
      "source": [
        "X = np.arange(-5.0, 5.0, 0.1)\n",
        "Y = 1.0 / (1.0 + np.exp(-X))\n",
        "\n",
        "plt.plot(X,Y) \n",
        "plt.ylabel('Dependent Variable')\n",
        "plt.xlabel('Indepdendent Variable')\n",
        "plt.show()"
      ],
      "execution_count": 10,
      "outputs": [
        {
          "output_type": "display_data",
          "data": {
            "image/png": "[encoded data removed]",
            "text/plain": [
              "<Figure size 432x288 with 1 Axes>"
            ]
          },
          "metadata": {
            "tags": []
          }
        }
      ]
    },
    {
      "cell_type": "markdown",
      "metadata": {
        "id": "ZV-dM6reySoS",
        "colab_type": "text"
      },
      "source": [
        "\n",
        "\n",
        "The formula for the logistic function is the following:\n",
        "\n",
        "$$ \\hat{Y} = \\frac1{1+e^{\\beta_1(X-\\beta_2)}}$$\n",
        "\n",
        "$\\beta_1$: Controls the curve's steepness,\n",
        "\n",
        "$\\beta_2$: Slides the curve on the x-axis."
      ]
    },
    {
      "cell_type": "markdown",
      "metadata": {
        "id": "GTI6qVg7ySoS",
        "colab_type": "text"
      },
      "source": [
        "### Building The Model ###\n",
        "Now, let's build our regression model and initialize its parameters. "
      ]
    },
    {
      "cell_type": "code",
      "metadata": {
        "id": "rinoP0RBySoT",
        "colab_type": "code",
        "colab": {}
      },
      "source": [
        "def sigmoid(x, Beta_1, Beta_2):\n",
        "     y = 1 / (1 + np.exp(-Beta_1*(x-Beta_2)))\n",
        "     return y"
      ],
      "execution_count": 0,
      "outputs": []
    },
    {
      "cell_type": "markdown",
      "metadata": {
        "id": "oILw7CS8ySoV",
        "colab_type": "text"
      },
      "source": [
        "Lets look at a sample sigmoid line that might fit with the data:"
      ]
    },
    {
      "cell_type": "code",
      "metadata": {
        "id": "lIHAu5twySoW",
        "colab_type": "code",
        "colab": {
          "base_uri": "https://localhost:8080/",
          "height": 293
        },
        "outputId": "9997571d-632a-4ca2-dd87-cfb85151cdc6"
      },
      "source": [
        "beta_1 = 0.10\n",
        "beta_2 = 1990.0\n",
        "\n",
        "#logistic function\n",
        "Y_pred = sigmoid(x_data, beta_1 , beta_2)\n",
        "\n",
        "#plot initial prediction against datapoints\n",
        "plt.plot(x_data, Y_pred*15000000000000.)\n",
        "plt.plot(x_data, y_data, 'ro')"
      ],
      "execution_count": 12,
      "outputs": [
        {
          "output_type": "execute_result",
          "data": {
            "text/plain": [
              "[<matplotlib.lines.Line2D at 0x7f32352c07b8>]"
            ]
          },
          "metadata": {
            "tags": []
          },
          "execution_count": 12
        },
        {
          "output_type": "display_data",
          "data": {
            "image/png": "[encoded data removed]",
            "text/plain": [
              "<Figure size 432x288 with 1 Axes>"
            ]
          },
          "metadata": {
            "tags": []
          }
        }
      ]
    },
    {
      "cell_type": "markdown",
      "metadata": {
        "id": "xmEF4TJaySob",
        "colab_type": "text"
      },
      "source": [
        "Our task here is to find the best parameters for our model. Lets first normalize our x and y:"
      ]
    },
    {
      "cell_type": "code",
      "metadata": {
        "id": "52I2kVMfySoc",
        "colab_type": "code",
        "colab": {}
      },
      "source": [
        "# Lets normalize our data\n",
        "xdata =x_data/max(x_data)\n",
        "ydata =y_data/max(y_data)"
      ],
      "execution_count": 0,
      "outputs": []
    },
    {
      "cell_type": "markdown",
      "metadata": {
        "id": "oNERHboIySof",
        "colab_type": "text"
      },
      "source": [
        "#### How we find the best parameters for our fit line?\n",
        "we can use __curve_fit__ which uses non-linear least squares to fit our sigmoid function, to data. Optimal values for the parameters so that the sum of the squared residuals of sigmoid(xdata, *popt) - ydata is minimized.\n",
        "\n",
        "popt are our optimized parameters."
      ]
    },
    {
      "cell_type": "code",
      "metadata": {
        "id": "u06XwSBNySog",
        "colab_type": "code",
        "colab": {
          "base_uri": "https://localhost:8080/",
          "height": 34
        },
        "outputId": "b319c35e-a3d2-4c6d-86cd-dc7434fa347a"
      },
      "source": [
        "from scipy.optimize import curve_fit\n",
        "popt, pcov = curve_fit(sigmoid, xdata, ydata)\n",
        "#print the final parameters\n",
        "print(\" beta_1 = %f, beta_2 = %f\" % (popt[0], popt[1]))"
      ],
      "execution_count": 14,
      "outputs": [
        {
          "output_type": "stream",
          "text": [
            " beta_1 = 690.453017, beta_2 = 0.997207\n"
          ],
          "name": "stdout"
        }
      ]
    },
    {
      "cell_type": "markdown",
      "metadata": {
        "id": "-SOnOEUsySoi",
        "colab_type": "text"
      },
      "source": [
        "Now we plot our resulting regresssion model."
      ]
    },
    {
      "cell_type": "code",
      "metadata": {
        "id": "QpoSpAyqySom",
        "colab_type": "code",
        "colab": {
          "base_uri": "https://localhost:8080/",
          "height": 337
        },
        "outputId": "36798981-a0b4-4898-ba54-407a1b9a9d6f"
      },
      "source": [
        "x = np.linspace(1960, 2015, 55)\n",
        "x = x/max(x)\n",
        "plt.figure(figsize=(8,5))\n",
        "y = sigmoid(x, *popt)\n",
        "plt.plot(xdata, ydata, 'ro', label='data')\n",
        "plt.plot(x,y, linewidth=3.0, label='fit')\n",
        "plt.legend(loc='best')\n",
        "plt.ylabel('GDP')\n",
        "plt.xlabel('Year')\n",
        "plt.show()"
      ],
      "execution_count": 15,
      "outputs": [
        {
          "output_type": "display_data",
          "data": {
            "image/png": "[encoded data removed]",
            "text/plain": [
              "<Figure size 576x360 with 1 Axes>"
            ]
          },
          "metadata": {
            "tags": []
          }
        }
      ]
    },
    {
      "cell_type": "markdown",
      "metadata": {
        "id": "6mNEmjhbySon",
        "colab_type": "text"
      },
      "source": [
        "## Practice\n",
        "Can you calculate what is the accuracy of our model?"
      ]
    },
    {
      "cell_type": "code",
      "metadata": {
        "id": "wUSFK2tGySoo",
        "colab_type": "code",
        "colab": {
          "base_uri": "https://localhost:8080/",
          "height": 68
        },
        "outputId": "8c3267ae-67bb-4c53-b22a-52cfef331c22"
      },
      "source": [
        "# write your code here\n",
        "# split data into train/test\n",
        "msk = np.random.rand(len(df)) < 0.8\n",
        "train_x = xdata[msk]\n",
        "test_x = xdata[~msk]\n",
        "train_y = ydata[msk]\n",
        "test_y = ydata[~msk]\n",
        "\n",
        "# build the model using train set\n",
        "popt, pcov = curve_fit(sigmoid, train_x, train_y)\n",
        "\n",
        "# predict using test set\n",
        "y_hat = sigmoid(test_x, *popt)\n",
        "\n",
        "# evaluation\n",
        "print(\"Mean absolute error: %.2f\" % np.mean(np.absolute(y_hat - test_y)))\n",
        "print(\"Residual sum of squares (MSE): %.2f\" % np.mean((y_hat - test_y) ** 2))\n",
        "from sklearn.metrics import r2_score\n",
        "print(\"R2-score: %.2f\" % r2_score(y_hat , test_y) )\n",
        "\n"
      ],
      "execution_count": 16,
      "outputs": [
        {
          "output_type": "stream",
          "text": [
            "Mean absolute error: 0.04\n",
            "Residual sum of squares (MSE): 0.00\n",
            "R2-score: 0.86\n"
          ],
          "name": "stdout"
        }
      ]
    },
    {
      "cell_type": "markdown",
      "metadata": {
        "id": "meklVZ59ySop",
        "colab_type": "text"
      },
      "source": [
        "Double-click __here__ for the solution.\n",
        "\n",
        "<!-- Your answer is below:\n",
        "    \n",
        "# split data into train/test\n",
        "msk = np.random.rand(len(df)) < 0.8\n",
        "train_x = xdata[msk]\n",
        "test_x = xdata[~msk]\n",
        "train_y = ydata[msk]\n",
        "test_y = ydata[~msk]\n",
        "\n",
        "# build the model using train set\n",
        "popt, pcov = curve_fit(sigmoid, train_x, train_y)\n",
        "\n",
        "# predict using test set\n",
        "y_hat = sigmoid(test_x, *popt)\n",
        "\n",
        "# evaluation\n",
        "print(\"Mean absolute error: %.2f\" % np.mean(np.absolute(y_hat - test_y)))\n",
        "print(\"Residual sum of squares (MSE): %.2f\" % np.mean((y_hat - test_y) ** 2))\n",
        "from sklearn.metrics import r2_score\n",
        "print(\"R2-score: %.2f\" % r2_score(y_hat , test_y) )\n",
        "\n",
        "-->"
      ]
    },
    {
      "cell_type": "markdown",
      "metadata": {
        "id": "JiYJHHeSySoq",
        "colab_type": "text"
      },
      "source": [
        "## Want to learn more?\n",
        "\n",
        "IBM SPSS Modeler is a comprehensive analytics platform that has many machine learning algorithms. It has been designed to bring predictive intelligence to decisions made by individuals, by groups, by systems – by your enterprise as a whole. A free trial is available through this course, available here: [SPSS Modeler](http://cocl.us/ML0101EN-SPSSModeler).\n",
        "\n",
        "Also, you can use Watson Studio to run these notebooks faster with bigger datasets. Watson Studio is IBM's leading cloud solution for data scientists, built by data scientists. With Jupyter notebooks, RStudio, Apache Spark and popular libraries pre-packaged in the cloud, Watson Studio enables data scientists to collaborate on their projects without having to install anything. Join the fast-growing community of Watson Studio users today with a free account at [Watson Studio](https://cocl.us/ML0101EN_DSX)\n",
        "\n",
        "### Thanks for completing this lesson!\n",
        "\n",
        "Notebook created by: <a href = \"https://ca.linkedin.com/in/saeedaghabozorgi\">Saeed Aghabozorgi</a>\n",
        "\n",
        "<hr>\n",
        "Copyright &copy; 2018 [Cognitive Class](https://cocl.us/DX0108EN_CC). This notebook and its source code are released under the terms of the [MIT License](https://bigdatauniversity.com/mit-license/).​"
      ]
    }
  ]
}